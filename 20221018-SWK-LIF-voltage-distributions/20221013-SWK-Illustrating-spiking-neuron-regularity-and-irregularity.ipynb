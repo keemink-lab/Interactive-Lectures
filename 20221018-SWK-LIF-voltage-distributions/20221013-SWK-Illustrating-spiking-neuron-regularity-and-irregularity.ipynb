{
 "cells": [
  {
   "cell_type": "code",
   "execution_count": null,
   "id": "b8d812fa",
   "metadata": {},
   "outputs": [],
   "source": [
    "from IPython.display import HTML\n",
    "\n",
    "HTML('''<script>\n",
    " function code_toggle() {\n",
    "   if (code_shown){\n",
    "     $('div.input').hide('500');\n",
    "     $('#toggleButton').val('Show Code')\n",
    "   } else {\n",
    "     $('div.input').show('500');\n",
    "     $('#toggleButton').val('Hide Code')\n",
    "   }\n",
    "   code_shown = !code_shown\n",
    " }\n",
    "\n",
    " $( document ).ready(function(){\n",
    "   code_shown=false;\n",
    "   $('div.input').hide()\n",
    " });\n",
    "</script>\n",
    "<form action=\"javascript:code_toggle()\"><input type=\"submit\" id=\"toggleButton\" value=\"Show Code\"></form>'''\n",
    "   )\n"
   ]
  },
  {
   "cell_type": "code",
   "execution_count": null,
   "id": "eb43c326",
   "metadata": {},
   "outputs": [],
   "source": [
    "import numpy as np\n",
    "import holoviews as hv\n",
    "hv.extension('bokeh', 'matplotlib')"
   ]
  },
  {
   "cell_type": "code",
   "execution_count": null,
   "id": "57dc064e",
   "metadata": {},
   "outputs": [],
   "source": [
    "def plotspikes(s, times, offset=2):\n",
    "    '''Plot a spike raster with colors.\n",
    "    \n",
    "    Parameters\n",
    "    ----------\n",
    "    s : array\n",
    "        Array of shape (N, nTimes) containing 0s and 1s\n",
    "    times : array\n",
    "        Array of shape (nTimes) containing the times of each frame.\n",
    "    offset : float\n",
    "        How much to offset each neuron's spike train by\n",
    "        \n",
    "    Returns\n",
    "    -------\n",
    "    Holoviews Overlay\n",
    "        An Holoview overlay of spike scatters\n",
    "    '''\n",
    "    N, nT = s.shape\n",
    "    \n",
    "    # get spike frames and ids\n",
    "    spike_ids, spike_frames = np.where(s)\n",
    "    \n",
    "    # generate figure\n",
    "    out = hv.Overlay()\n",
    "    for i in range(N):\n",
    "        # get spike times\n",
    "        sp_times = times[spike_frames[spike_ids==i]]\n",
    "        \n",
    "        # add to figure\n",
    "        out *= hv.Scatter(zip(sp_times, np.ones(len(sp_times))*i*offset), kdims='Time (s)')\n",
    "        \n",
    "    return out"
   ]
  },
  {
   "cell_type": "code",
   "execution_count": null,
   "id": "4d3f4f39",
   "metadata": {},
   "outputs": [],
   "source": [
    "#### Parameters\n",
    "N = 100 # number of neurons\n",
    "dt = 1e-3\n",
    "Tend = 10\n",
    "times = np.arange(0, Tend, dt)\n",
    "nT = len(times)\n",
    "nInputs = 10 # number of different input strengths\n",
    "inputs = np.linspace(0.5, 1.5, nInputs) # input strengths\n",
    "sigma = .1 # noise level (std)"
   ]
  },
  {
   "cell_type": "code",
   "execution_count": null,
   "id": "f4f131d1",
   "metadata": {},
   "outputs": [],
   "source": [
    "#### Simulate with Euler\n",
    "V = np.zeros((nInputs, N, nT))\n",
    "V_nospiking = np.zeros_like(V)\n",
    "s = np.zeros_like(V)\n",
    "for j in range(nInputs): # loop over different inputs\n",
    "    for i in range(1, nT): # loop over time\n",
    "        # generate noise        \n",
    "        eta = np.random.randn(N)\n",
    "        \n",
    "        # update voltages without spiking mechanism\n",
    "        V[j, :, i] = V[j, :, i-1] + dt*(-V[j, :, i-1]+ inputs[j])+ sigma*np.sqrt(dt)*eta\n",
    "        \n",
    "        # update voltages with spiking mechanism\n",
    "        V_nospiking[j, :, i] = V_nospiking[j, :, i-1] + dt*(-V_nospiking[j, :, i-1]+ inputs[j])+ sigma*np.sqrt(dt)*eta\n",
    "\n",
    "        # check which neurons are spiking (threshold of 1)\n",
    "        to_spike = V[j, :, i] > 1\n",
    "        if len(to_spike) > 0:\n",
    "            V[j, to_spike, i] = 0 # reset to 0\n",
    "            s[j, to_spike, i] = 1 # update spikes"
   ]
  },
  {
   "cell_type": "markdown",
   "id": "d8ff1e32",
   "metadata": {},
   "source": [
    "### Plot voltages with distributions, no spiking"
   ]
  },
  {
   "cell_type": "code",
   "execution_count": null,
   "id": "0fc260a2",
   "metadata": {},
   "outputs": [],
   "source": [
    "%%output backend='bokeh'\n",
    "# pick an example neuron to plot voltages for\n",
    "n = 3\n",
    "\n",
    "# bins for voltage distribution plotting\n",
    "nbins = 100\n",
    "bins = np.linspace(V_nospiking.min(), V_nospiking.max()+0.2, nbins)\n",
    "\n",
    "# prepare figure\n",
    "figA = hv.Overlay()\n",
    "figB = hv.Overlay()\n",
    "vdim = 'Voltage (a.u.)'\n",
    "tdim = 'Time (s)'\n",
    "fig_thresh_H = hv.HLine(1).opts(color='k', line_dash='dashed', line_width=1)\n",
    "fig_thresh_V = hv.VLine(1).opts(color='k', line_dash='dashed', line_width=1)\n",
    "\n",
    "# generate figure\n",
    "for j in range(nInputs): # loop over different input strengths\n",
    "    fig = hv.Overlay()\n",
    "    \n",
    "    # calculate and plot histogram\n",
    "    histy, histx = np.histogram(V_nospiking[j, :, 4000:], bins=bins)\n",
    "    fig_hist = hv.Curve(zip(histy/histy.sum(), histx), vdims=vdim)\n",
    "    \n",
    "    # plot example voltage trace\n",
    "    fig = hv.Curve(zip(times, V_nospiking[j, n, :]), vdims=vdim, kdims=tdim)\n",
    "    \n",
    "    # combine figures\n",
    "    figA *= fig\n",
    "    figB *= fig_hist.opts(width=100, xaxis=None)\n",
    "    \n",
    "figA*fig_thresh_H+figB*fig_thresh_H"
   ]
  },
  {
   "cell_type": "markdown",
   "id": "404653ab",
   "metadata": {},
   "source": [
    "Note that the voltage distributions on the right are across many trials, not just for the example trace on the left.."
   ]
  },
  {
   "cell_type": "markdown",
   "id": "6b1d6b14",
   "metadata": {},
   "source": [
    "### Plot voltages with distributions, with spiking"
   ]
  },
  {
   "cell_type": "code",
   "execution_count": null,
   "id": "7f88aa0b",
   "metadata": {},
   "outputs": [],
   "source": [
    "%%output backend='bokeh'\n",
    "# pick an example neuron to plot voltages for\n",
    "n = 3\n",
    "\n",
    "# bins for voltage distribution plotting\n",
    "nbins = 100\n",
    "bins = np.linspace(V.min(), V.max()+0.2, nbins)\n",
    "\n",
    "# prepare figure\n",
    "figA = hv.Overlay()\n",
    "figB = hv.Overlay()\n",
    "vdim = 'Voltage (a.u.)'\n",
    "tdim = 'Time (s)'\n",
    "fig_thresh_H = hv.HLine(1).opts(color='k', line_dash='dashed', line_width=1)\n",
    "fig_thresh_V = hv.VLine(1).opts(color='k', line_dash='dashed', line_width=1)\n",
    "\n",
    "# generate figure\n",
    "for j in range(nInputs): # loop over different input strengths\n",
    "    fig = hv.Overlay()\n",
    "    \n",
    "    # calculate and plot histogram\n",
    "    histy, histx = np.histogram(V[j, :, 4000:], bins=bins)\n",
    "    fig_hist = hv.Curve(zip(histy/histy.sum(), histx), vdims=vdim)\n",
    "    \n",
    "    # plot example voltage trace\n",
    "    fig = hv.Curve(zip(times, V[j, n, :]), vdims=vdim, kdims=tdim)\n",
    "    \n",
    "    # combine figures\n",
    "    figA *= fig\n",
    "    figB *= fig_hist.opts(width=100, xaxis=None)\n",
    "    \n",
    "figA*fig_thresh_H+figB*fig_thresh_H"
   ]
  },
  {
   "cell_type": "markdown",
   "id": "137c70fe",
   "metadata": {},
   "source": [
    "### Interactive version without thresholds"
   ]
  },
  {
   "cell_type": "code",
   "execution_count": null,
   "id": "406b514d",
   "metadata": {},
   "outputs": [],
   "source": [
    "%%output backend='bokeh'\n",
    "# choose example neuron for the voltage trace\n",
    "n = 3\n",
    "\n",
    "# bins for voltage distribution plotting\n",
    "nbins = 100\n",
    "bins = np.linspace(V_nospiking.min(), V_nospiking.max()+0.2, nbins)\n",
    "\n",
    "# prepare figure\n",
    "frames = {}\n",
    "vdim = 'Voltage (a.u.)'\n",
    "tdim = 'Time (s)'\n",
    "fig_thresh_H = hv.HLine(1).opts(color='k', line_dash='dashed', line_width=1)\n",
    "fig_thresh_V = hv.VLine(1).opts(color='k', line_dash='dashed', line_width=1)\n",
    "\n",
    "# generate figure\n",
    "for j in range(nInputs):\n",
    "    fig = hv.Overlay()\n",
    "    \n",
    "    # calculate histogram and plot\n",
    "    histy, histx = np.histogram(V_nospiking[j, :, 2000:], bins=bins)\n",
    "    fig_hist = hv.Curve(zip(histy/histy.sum(), histx), vdims=vdim)\n",
    "    \n",
    "    # plot example voltage\n",
    "    fig = hv.Curve(zip(times, V_nospiking[j, n, :]), vdims=vdim, kdims=tdim)\n",
    "    \n",
    "    # add figure to frames\n",
    "    frames[inputs[j]] = fig*fig_thresh_H + fig_hist.opts(width=100, xaxis=None)*fig_thresh_H\n",
    "\n",
    "# combine all in interactive plot    \n",
    "hv.HoloMap(frames, kdims=['Input strength']).collate()"
   ]
  },
  {
   "cell_type": "markdown",
   "id": "01c8a087",
   "metadata": {},
   "source": [
    "### Interactive version with thresholds"
   ]
  },
  {
   "cell_type": "code",
   "execution_count": null,
   "id": "9b8b4475",
   "metadata": {
    "scrolled": false
   },
   "outputs": [],
   "source": [
    "%%output backend='bokeh'\n",
    "# choose example neuron for the voltage trace\n",
    "n = 3\n",
    "\n",
    "# bins for voltage distribution plotting\n",
    "nbins = 100\n",
    "bins = np.linspace(V.min(), V.max()+0.2, nbins)\n",
    "\n",
    "# prepare figure\n",
    "frames = {}\n",
    "vdim = 'Voltage (a.u.)'\n",
    "tdim = 'Time (s)'\n",
    "fig_thresh_H = hv.HLine(1).opts(color='k', line_dash='dashed', line_width=1)\n",
    "fig_thresh_V = hv.VLine(1).opts(color='k', line_dash='dashed', line_width=1)\n",
    "\n",
    "# generate figure\n",
    "for j in range(nInputs):\n",
    "    fig = hv.Overlay()\n",
    "    \n",
    "    # calculate histogram and plot\n",
    "    histy, histx = np.histogram(V[j, :, 2000:], bins=bins)\n",
    "    fig_hist = hv.Curve(zip(histy/histy.sum(), histx), vdims=vdim)\n",
    "    \n",
    "    # plot example voltage\n",
    "    fig = hv.Curve(zip(times, V[j, n, :]), vdims=vdim, kdims=tdim)\n",
    "    \n",
    "    # add figure to frames\n",
    "    frames[inputs[j]] = fig*fig_thresh_H + fig_hist.opts(width=100, xaxis=None)*fig_thresh_H\n",
    "\n",
    "# combine all in interactive plot    \n",
    "hv.HoloMap(frames, kdims=['Input strength']).collate()"
   ]
  },
  {
   "cell_type": "markdown",
   "id": "8942a325",
   "metadata": {},
   "source": [
    "### Example traces and spikes"
   ]
  },
  {
   "cell_type": "code",
   "execution_count": null,
   "id": "c16b9944",
   "metadata": {},
   "outputs": [],
   "source": [
    "%%opts Curve {-axiswise} Scatter {-axiswise}  [yaxis=None]\n",
    "%%opts Overlay [yaxis=None] {+axiswise}\n",
    "Nsamples = range(20) # which neurons to actually plot\n",
    "fig_A = hv.HoloMap({inputs[i]: hv.Overlay([hv.Curve(zip(times, V[i, n, :]+n*2), kdims='Time (s)') for n in Nsamples]) for i in range(nInputs)}, kdims=['Input strength'])\n",
    "fig_B = hv.HoloMap({inputs[i]: plotspikes(s[i, Nsamples, :], times) for i in range(nInputs)}, kdims=['Input strength'])\n",
    "fig_A+fig_B"
   ]
  },
  {
   "cell_type": "markdown",
   "id": "823c60bd",
   "metadata": {},
   "source": [
    "Left: voltage traces. Right: spike raster plot."
   ]
  }
 ],
 "metadata": {
  "kernelspec": {
   "display_name": "Python 3",
   "language": "python",
   "name": "python3"
  },
  "language_info": {
   "codemirror_mode": {
    "name": "ipython",
    "version": 3
   },
   "file_extension": ".py",
   "mimetype": "text/x-python",
   "name": "python",
   "nbconvert_exporter": "python",
   "pygments_lexer": "ipython3",
   "version": "3.8.8"
  }
 },
 "nbformat": 4,
 "nbformat_minor": 5
}

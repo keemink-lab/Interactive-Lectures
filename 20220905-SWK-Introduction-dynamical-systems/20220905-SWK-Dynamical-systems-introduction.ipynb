{
 "cells": [
  {
   "cell_type": "code",
   "execution_count": 1,
   "metadata": {
    "slideshow": {
     "slide_type": "skip"
    }
   },
   "outputs": [
    {
     "data": {
      "text/html": [
       "<script>\n",
       " function code_toggle() {\n",
       "   if (code_shown){\n",
       "     $('div.input').hide('500');\n",
       "     $('#toggleButton').val('Show Code')\n",
       "   } else {\n",
       "     $('div.input').show('500');\n",
       "     $('#toggleButton').val('Hide Code')\n",
       "   }\n",
       "   code_shown = !code_shown\n",
       " }\n",
       "\n",
       " $( document ).ready(function(){\n",
       "   code_shown=false;\n",
       "   $('div.input').hide()\n",
       " });\n",
       "</script>\n",
       "<form action=\"javascript:code_toggle()\"><input type=\"submit\" id=\"toggleButton\" value=\"Show Code\"></form>"
      ],
      "text/plain": [
       "<IPython.core.display.HTML object>"
      ]
     },
     "execution_count": 1,
     "metadata": {},
     "output_type": "execute_result"
    }
   ],
   "source": [
    "from IPython.display import HTML\n",
    "\n",
    "HTML('''<script>\n",
    " function code_toggle() {\n",
    "   if (code_shown){\n",
    "     $('div.input').hide('500');\n",
    "     $('#toggleButton').val('Show Code')\n",
    "   } else {\n",
    "     $('div.input').show('500');\n",
    "     $('#toggleButton').val('Hide Code')\n",
    "   }\n",
    "   code_shown = !code_shown\n",
    " }\n",
    "\n",
    " $( document ).ready(function(){\n",
    "   code_shown=false;\n",
    "   $('div.input').hide()\n",
    " });\n",
    "</script>\n",
    "<form action=\"javascript:code_toggle()\"><input type=\"submit\" id=\"toggleButton\" value=\"Show Code\"></form>'''\n",
    "   )"
   ]
  },
  {
   "cell_type": "code",
   "execution_count": null,
   "metadata": {
    "slideshow": {
     "slide_type": "skip"
    }
   },
   "outputs": [],
   "source": [
    "import numpy as np\n",
    "import holoviews as hv\n",
    "hv.extension('bokeh', 'matplotlib')\n",
    "%output holomap='scrubber'"
   ]
  },
  {
   "cell_type": "code",
   "execution_count": null,
   "metadata": {
    "slideshow": {
     "slide_type": "skip"
    }
   },
   "outputs": [],
   "source": [
    "# holovies settings\n",
    "# get colors\n",
    "colors = hv.core.options.Cycle.default_cycles['default_colors']\n",
    "\n",
    "# sizes\n",
    "ticks = 16\n",
    "labels = 20\n",
    "title = 20\n",
    "\n",
    "# dimensions\n",
    "dim_dr = hv.Dimension('dr/dt', unit='s^-2')\n",
    "dim_r = hv.Dimension('r', unit='Hz')\n",
    "dim_r2 = hv.Dimension('r', unit='Hz')\n",
    "dim_t = hv.Dimension('Time', unit='s')\n",
    "dim_re = hv.Dimension('rE', unit='Hz')\n",
    "dim_ri = hv.Dimension('rI', unit='Hz')\n"
   ]
  },
  {
   "cell_type": "code",
   "execution_count": null,
   "metadata": {
    "slideshow": {
     "slide_type": "skip"
    }
   },
   "outputs": [],
   "source": [
    "%opts Curve (line_width=4) HLine (line_width=2) {+axiswise}\n",
    "%opts HLine (color='k' line_dash='dashed') Scatter (size=15)\n",
    "%opts Curve [fontsize={'ticks':ticks, 'ylabel':labels, 'xlabel':labels,'title':title} yticks=4]\n",
    "%opts Histogram [fontsize={'ticks':ticks, 'ylabel':labels, 'xlabel':labels,'title':title} yticks=4]\n",
    "%opts Scatter [fontsize={'ticks':ticks, 'ylabel':labels, 'xlabel':labels,'title':title} yticks=4] {+axiswise}\n",
    "%opts Overlay [fontsize={'ticks':ticks, 'ylabel':labels, 'xlabel':labels,'title':title} yticks=4]\n",
    "%opts Image [fontsize={'ticks':ticks, 'ylabel':labels, 'xlabel':labels,'title':title}]\n",
    "%opts Polygons [fontsize={'ticks':ticks, 'ylabel':labels, 'xlabel':labels,'title':title}]\n",
    "%opts Overlay [show_frame=False show_grid=False bgcolor='white']\n",
    "%opts Curve [show_grid=False bgcolor='white'] (linewidth=3)\n",
    "%opts Histogram (facecolor='k' edgecolor='k')\n",
    "%opts Scatter [show_grid=False bgcolor='white'] (color='k' s=75)\n",
    "%opts Image [xaxis=None yaxis=None show_frame=False colorbar=False] (cmap='Greys' clims=(-1.5,1.5))\n",
    "%opts Curve [fig_rcparams={'xtick.major.width':1,'xtick.major.size':5,'ytick.major.size':5}]\n",
    "%opts Scatter [fig_rcparams={'xtick.major.width':1,'xtick.major.size':5,'ytick.major.size':5}]\n",
    "%opts Overlay [fig_rcparams={'xtick.major.width':1,'xtick.major.size':5,'ytick.major.size':5}]\n",
    "%opts Layout [fig_rcparams={'xtick.major.width':1,'xtick.major.size':5,'ytick.major.size':5}]\n",
    "%opts Spread [fig_rcparams={'xtick.major.width':1,'xtick.major.size':5,'ytick.major.size':5}]\n",
    "%opts Arrow (arrow_line_width=4 arrow_size=10)\n",
    "%opts VectorField [size_index=3]\n",
    "%output size=150"
   ]
  },
  {
   "cell_type": "code",
   "execution_count": null,
   "metadata": {
    "slideshow": {
     "slide_type": "skip"
    }
   },
   "outputs": [],
   "source": [
    "# solver\n",
    "def euler_solve(dx, x0, par, dt, nT, noise=None):\n",
    "    '''Simulates the system of differential equations specified by dx, using forward Euler.\n",
    "    \n",
    "    Parameters\n",
    "    ----------\n",
    "    dx : function\n",
    "        Function of form dx(x, par), which determines how the state will change given current state\n",
    "    x0 : array\n",
    "        Starting parameters\n",
    "    par : unknown\n",
    "        Whatever parametes go into dx\n",
    "    dt : float\n",
    "        Timestep size\n",
    "    nT : int\n",
    "        Number of timesteps\n",
    "    noise : array, to be implemented\n",
    "        If given, what noise to be added at every time step (could possibly be a function)\n",
    "    \n",
    "    Output\n",
    "    ------\n",
    "    array\n",
    "        Simulated values\n",
    "    '''\n",
    "    # preamble\n",
    "    nS = len(x0) # nr of equations/signals\n",
    "    out = np.zeros((nS, nT)) # predefined output\n",
    "    out[:, 0] = x0\n",
    "    \n",
    "    # loop over time\n",
    "    for i in range(nT-1):\n",
    "        out[:, i+1] = out[:, i] + dt*dx(out[:, i], par)\n",
    "    \n",
    "    # return\n",
    "    return out\n",
    "\n",
    "# 1D phaseplane plotter\n",
    "def phaseplane_1D(dx, par, x, add_arrows=None, add_points=False):\n",
    "    '''Plots the phaseplane in 1D.\n",
    "    \n",
    "    Parameters\n",
    "    ----------\n",
    "    dx : function\n",
    "        Derivative function, of form dx(x, par)\n",
    "    par : unknown\n",
    "        Whatever parameters the dx function needs\n",
    "    x : array\n",
    "        Values at which to plot the derivative\n",
    "    add_arrows : array of floats\n",
    "        At what locations to add arrows\n",
    "    add_points : bool\n",
    "        Whether to add fixed points\n",
    "        \n",
    "    Output\n",
    "    ------\n",
    "    Holoviews overlay\n",
    "        Plotting object with everything necessary in it\n",
    "    \n",
    "    '''\n",
    "    # predefine output\n",
    "    out = hv.Overlay()\n",
    "    \n",
    "    # get derivative values\n",
    "    dx_vals = dx(x, par)\n",
    "    dx_sign = np.sign(np.diff(dx_vals))\n",
    "    \n",
    "    # get fixed points and their stability\n",
    "    nulls = np.where(np.diff(np.sign(dx_vals)))[0]+1\n",
    "    stable = dx_sign[nulls]==-1\n",
    "    \n",
    "    # plot phase 'plane'\n",
    "    out *= hv.Curve(zip(x, dx_vals), vdims=dim_dr, kdims=dim_r)\n",
    "    out *= hv.HLine(0)\n",
    "    \n",
    "    # plot optional additions\n",
    "    if add_points:\n",
    "        out *= hv.Scatter([]) # to fix overlay bug with HLine\n",
    "        for i, point in enumerate(nulls):\n",
    "            if stable[i]:\n",
    "                opts = hv.opts.Scatter(color='k')\n",
    "            else:\n",
    "                opts = hv.opts.Scatter(color='k', fill_color='w')\n",
    "            out *= hv.Scatter(zip([x[point]], [dx_vals[point]])).opts(opts)\n",
    "            \n",
    "            \n",
    "    if add_arrows is not None:\n",
    "        for loc in add_arrows:\n",
    "            if dx(loc, par) > 0:\n",
    "                direction = '>'\n",
    "            else:\n",
    "                direction = '<'\n",
    "            out *= hv.Arrow(loc, 0, direction=direction)\n",
    "            \n",
    "    return out\n",
    "\n",
    "def sim_animate_1D(dx, x0, par, dt, nT, downsample=1, ref_fig=None):\n",
    "    '''Simlates and animates a model for given starting conditions. \n",
    "    \n",
    "    Parameters\n",
    "    ----------\n",
    "    dx, x0, par, dt, nT\n",
    "        See euler_solve() for paramter descriptions.\n",
    "    downsample : int\n",
    "        How many frames to downsample to\n",
    "    ref_fig : HoloViews Overlay\n",
    "        Reference overlay to put under animation in every frame for the x-dx/dt plot\n",
    "        \n",
    "    Output\n",
    "    ------\n",
    "    list of HoloViews objects\n",
    "        List of plots to show system state in x-dx/dt plot. Can be animated with hv.HoloMap().\n",
    "    list of HoloViews objects,\n",
    "        Same as previous, but for t-x plot\n",
    "    array\n",
    "        Solved values\n",
    "    '''\n",
    "    # get data\n",
    "    x = euler_solve(dx, x0, par, dt, nT)[0, :]\n",
    "    dx_vals = dx(x, par)\n",
    "    times = np.arange(nT)*dt\n",
    "    \n",
    "    # plot frames\n",
    "    if ref_fig is None:\n",
    "        ref_fig = hv.Overlay()\n",
    "    frames_xdx = {f*dt: ref_fig*hv.Scatter(zip([x[f]], [dx_vals[f]])) for f in range(0, nT, downsample)}\n",
    "    opts = hv.opts.Curve(color='k')\n",
    "    frames_tx = {f*dt: hv.Curve(zip(times[:f], x[:f]), vdims=dim_r2, kdims=dim_t).opts(opts)*hv.Scatter(zip([times[f]], [x[f]])) for f in range(0, nT, downsample)}\n",
    "    \n",
    "    return x, frames_xdx, frames_tx\n"
   ]
  },
  {
   "cell_type": "markdown",
   "metadata": {
    "slideshow": {
     "slide_type": "slide"
    }
   },
   "source": [
    "<center>  \n",
    "\n",
    "# Understanding small neural networks: an introduction to dynamical system theory\n",
    "<br/>\n",
    "<br/>\n",
    "    \n",
    "\n",
    "\n",
    "<center>\n",
    "Sander Keemink\n",
    "    \n",
    "\n"
   ]
  },
  {
   "cell_type": "markdown",
   "metadata": {
    "slideshow": {
     "slide_type": "subslide"
    }
   },
   "source": [
    "### Dynamical systems analysis\n",
    "$$ \\frac{dr}{dt} = f(r, I) $$\n",
    "* Models evolution over time\n",
    "* Once complicated enough, usually not solvable analytically (i.e., anything in neuroscience)\n",
    "* But: overall behaviour can be understood and predicted with dynamical systems theory"
   ]
  },
  {
   "cell_type": "markdown",
   "metadata": {
    "slideshow": {
     "slide_type": "slide"
    }
   },
   "source": [
    "<center>  \n",
    "\n",
    "# One-dimensional systems \n",
    "    \n",
    "<center>\n",
    "\n",
    "    \n",
    "\n"
   ]
  },
  {
   "cell_type": "markdown",
   "metadata": {
    "slideshow": {
     "slide_type": "slide"
    }
   },
   "source": [
    "###  Firing rate model\n",
    "$$ \\frac{dr}{dt} = -r + I$$\n",
    "<center><img src='figs/neural systems - simple2.svg' width=400>"
   ]
  },
  {
   "cell_type": "code",
   "execution_count": null,
   "metadata": {
    "scrolled": false,
    "slideshow": {
     "slide_type": "skip"
    }
   },
   "outputs": [],
   "source": [
    "# Setup linear\n",
    "s = 1\n",
    "w = 0\n",
    "I = 0.5\n",
    "par = [s, w, I]\n",
    "\n",
    "f = lambda x, s: s*x\n",
    "dr = lambda x, par: -x + f(par[1]*x + par[2], par[0])\n",
    "\n",
    "rs = np.linspace(-.5, 1.5, 1000)\n",
    "\n",
    "# basic figures\n",
    "fig = phaseplane_1D(dr, par, rs, None, False)\n",
    "fig_arrows = phaseplane_1D(dr, par, rs, [0.4, 0.6], True)\n",
    "\n",
    "# animation plus simulation\n",
    "r0 = [1]\n",
    "dt = 0.01\n",
    "nT = 1000\n",
    "r, frames_xdx, frames_tx = sim_animate_1D(dr, r0, par, dt, nT, downsample=10, ref_fig=fig)\n",
    "animation = hv.HoloMap(frames_tx, kdims=dim_t)*hv.Curve(zip([0], [0]))\n",
    "animation_full = hv.HoloMap(frames_xdx).opts(xlim=(-.5,1.5), ylim=(-1, 1)) + hv.HoloMap(frames_tx)"
   ]
  },
  {
   "cell_type": "markdown",
   "metadata": {
    "slideshow": {
     "slide_type": "subslide"
    }
   },
   "source": [
    "###  Firing rate model\n",
    "$$ \\frac{dr}{dt} = -r + I$$\n",
    "$$ I = 0.5 $$\n",
    "$$ r_0 = 1 $$"
   ]
  },
  {
   "cell_type": "code",
   "execution_count": null,
   "metadata": {
    "scrolled": false
   },
   "outputs": [],
   "source": [
    "animation # add I to plot or by text"
   ]
  },
  {
   "cell_type": "markdown",
   "metadata": {
    "slideshow": {
     "slide_type": "subslide"
    }
   },
   "source": [
    "####  Phase-plot representation\n",
    "$$ \\tau\\frac{dr}{dt} = -r + I$$\n",
    "$$ I = 0.5 $$"
   ]
  },
  {
   "cell_type": "code",
   "execution_count": null,
   "metadata": {},
   "outputs": [],
   "source": [
    "fig"
   ]
  },
  {
   "cell_type": "code",
   "execution_count": null,
   "metadata": {
    "slideshow": {
     "slide_type": "subslide"
    }
   },
   "outputs": [],
   "source": [
    "%%opts Curve {+axiswise} Scatter {+axiswise}\n",
    "animation_full"
   ]
  },
  {
   "cell_type": "markdown",
   "metadata": {
    "slideshow": {
     "slide_type": "subslide"
    }
   },
   "source": [
    "###  Fixed point analysis"
   ]
  },
  {
   "cell_type": "code",
   "execution_count": null,
   "metadata": {},
   "outputs": [],
   "source": [
    "# make sure it's understandable what positive/negative derivatives mean\n",
    "fig_arrows"
   ]
  },
  {
   "cell_type": "markdown",
   "metadata": {
    "slideshow": {
     "slide_type": "slide"
    }
   },
   "source": [
    "###  With autapse\n",
    "$$ \\tau\\frac{dr}{dt} = (w-1)r + I $$\n",
    "<center><img src='figs/neural systems - autapse.svg' width=400>"
   ]
  },
  {
   "cell_type": "code",
   "execution_count": null,
   "metadata": {
    "scrolled": false,
    "slideshow": {
     "slide_type": "skip"
    }
   },
   "outputs": [],
   "source": [
    "# Setup linear\n",
    "s = 1\n",
    "w = 0.5\n",
    "I = 0.5\n",
    "par = [s, w, I]\n",
    "\n",
    "f = lambda x, s: s*x\n",
    "dr = lambda x, par: -x + f(par[1]*x + par[2], par[0])\n",
    "\n",
    "rs = np.linspace(-.5, 1.5, 1000)\n",
    "\n",
    "# basic figures\n",
    "fig = phaseplane_1D(dr, par, rs, None, False)\n",
    "fig_arrows = phaseplane_1D(dr, par, rs, [0.9, 1.1], True)\n",
    "\n",
    "# animation plus simulation\n",
    "r0 = [1]\n",
    "dt = 0.01\n",
    "nT = 1000\n",
    "r, frames_xdx, frames_tx = sim_animate_1D(dr, r0, par, dt, nT, downsample=10, ref_fig=fig)\n",
    "animation = hv.HoloMap(frames_tx, kdims=dim_t)*hv.Curve(zip([0], [0]))\n",
    "animation_full_fixed = hv.HoloMap(frames_xdx, kdims=dim_t).opts(xlim=(-.2,1.5), ylim=(-0.2, 0.8)) +hv.HoloMap(frames_tx, kdims=dim_t)\n",
    "r0 = [0.5]\n",
    "r, frames_xdx, frames_tx = sim_animate_1D(dr, r0, par, dt, nT, downsample=10, ref_fig=fig)\n",
    "animation_full = hv.HoloMap(frames_xdx, kdims=dim_t).opts(xlim=(-.5,1.5), ylim=(-.2, .8)) +hv.HoloMap(frames_tx, kdims=dim_t)"
   ]
  },
  {
   "cell_type": "markdown",
   "metadata": {
    "slideshow": {
     "slide_type": "subslide"
    }
   },
   "source": [
    "###  With autapse\n",
    "$$ \\tau\\frac{dr}{dt} = (w-1)r + I $$\n",
    "\n",
    "$$ I = 0.5 $$\n",
    "\n",
    "\n",
    "$$ w = 0.5 $$"
   ]
  },
  {
   "cell_type": "code",
   "execution_count": null,
   "metadata": {
    "slideshow": {
     "slide_type": "-"
    }
   },
   "outputs": [],
   "source": [
    "fig_arrows"
   ]
  },
  {
   "cell_type": "code",
   "execution_count": null,
   "metadata": {
    "slideshow": {
     "slide_type": "subslide"
    }
   },
   "outputs": [],
   "source": [
    "%%opts Curve {+axiswise} Scatter {+axiswise}\n",
    "animation_full_fixed"
   ]
  },
  {
   "cell_type": "code",
   "execution_count": null,
   "metadata": {
    "scrolled": false,
    "slideshow": {
     "slide_type": "subslide"
    }
   },
   "outputs": [],
   "source": [
    "animation_full"
   ]
  },
  {
   "cell_type": "code",
   "execution_count": null,
   "metadata": {
    "scrolled": false,
    "slideshow": {
     "slide_type": "skip"
    }
   },
   "outputs": [],
   "source": [
    "# Setup linear\n",
    "s = 1\n",
    "w = 1.5\n",
    "I = -0.5\n",
    "par = [s, w, I]\n",
    "\n",
    "f = lambda x, s: s*x\n",
    "dr = lambda x, par: -x + f(par[1]*x + par[2], par[0])\n",
    "\n",
    "rs = np.linspace(-.5, 1.5, 1000)\n",
    "\n",
    "# basic figures\n",
    "fig = phaseplane_1D(dr, par, rs, None, False)\n",
    "fig_arrows = phaseplane_1D(dr, par, rs, [0.7, 1.3], True)\n",
    "\n",
    "# animation plus simulation\n",
    "r0 = [1]\n",
    "dt = 0.01\n",
    "nT = 1000\n",
    "r, frames_xdx, frames_tx = sim_animate_1D(dr, r0, par, dt, nT, downsample=10, ref_fig=fig)\n",
    "animation = hv.HoloMap(frames_tx, kdims=dim_t)*hv.Curve(zip([0], [0]))\n",
    "animation_full_fixed = hv.HoloMap(frames_xdx, kdims=dim_t).opts(xlim=(-.2,1.5), ylim=(-0.2, 0.8)) +hv.HoloMap(frames_tx, kdims=dim_t)\n",
    "r0 = [1.5]\n",
    "r, frames_xdx, frames_tx = sim_animate_1D(dr, r0, par, dt, nT, downsample=10, ref_fig=fig)\n",
    "animation_full = hv.HoloMap(frames_xdx, kdims=dim_t).opts(xlim=(-.5,1.5), ylim=(-.2, .8)) +hv.HoloMap(frames_tx, kdims=dim_t)"
   ]
  },
  {
   "cell_type": "markdown",
   "metadata": {
    "slideshow": {
     "slide_type": "subslide"
    }
   },
   "source": [
    "###  With strong autapse\n",
    "$$ \\tau\\frac{dr}{dt} = (w-1)r + I $$\n",
    "\n",
    "$$ I = -0.5 $$\n",
    "\n",
    "\n",
    "$$ w = 1.5 $$"
   ]
  },
  {
   "cell_type": "code",
   "execution_count": null,
   "metadata": {
    "slideshow": {
     "slide_type": "subslide"
    }
   },
   "outputs": [],
   "source": [
    "fig"
   ]
  },
  {
   "cell_type": "code",
   "execution_count": null,
   "metadata": {
    "slideshow": {
     "slide_type": "subslide"
    }
   },
   "outputs": [],
   "source": [
    "fig_arrows"
   ]
  },
  {
   "cell_type": "code",
   "execution_count": null,
   "metadata": {
    "slideshow": {
     "slide_type": "subslide"
    }
   },
   "outputs": [],
   "source": [
    "frames_tx[9.9]"
   ]
  },
  {
   "cell_type": "markdown",
   "metadata": {
    "slideshow": {
     "slide_type": "subslide"
    }
   },
   "source": [
    "####  Fixed point stability\n",
    "<center><img src='figs/Izh_fixed-point-stability.png' width=1000>\n",
    "(Izhikevich, 2010)"
   ]
  },
  {
   "cell_type": "markdown",
   "metadata": {
    "slideshow": {
     "slide_type": "slide"
    }
   },
   "source": [
    "####  Nonlinear equations\n",
    "$$ \\tau\\frac{dr}{dt} = -r + f(wr+I) $$\n",
    "\n",
    "$$ f(x) = \\frac{1}{1+\\exp(-10x)} $$"
   ]
  },
  {
   "cell_type": "code",
   "execution_count": null,
   "metadata": {
    "slideshow": {
     "slide_type": "skip"
    }
   },
   "outputs": [],
   "source": [
    "### Setup linear\n",
    "s = 10\n",
    "w = 1\n",
    "I = -0.5\n",
    "par = [s, w, I]\n",
    "\n",
    "# functions\n",
    "f = lambda x, s: 1/(1+np.exp(-s*x))\n",
    "dr = lambda x, par: -x + f(par[1]*x + par[2], par[0])\n",
    "x = np.linspace(-1, 1, 100)\n",
    "fig_nonlin = hv.Curve(zip(x, f(x, s)), vdims='f(x)')\n",
    "\n",
    "rs = np.linspace(-.5, 1.5, 1000)\n",
    "\n",
    "\n",
    "# basic figures\n",
    "fig = phaseplane_1D(dr, par, rs, None, False)\n",
    "fig_arrows = phaseplane_1D(dr, par, rs, [-0.1, 0.2, 0.8, 1.1], True)\n",
    "\n",
    "# animation plus simulation\n",
    "r0 = [0.25]\n",
    "dt = 0.01\n",
    "nT = 1000\n",
    "r, frames_xdx, frames_tx = sim_animate_1D(dr, r0, par, dt, nT, downsample=10, ref_fig=fig)\n",
    "animation = hv.HoloMap(frames_tx, kdims=dim_t)*hv.Curve(zip([0], [0]))\n",
    "animation_full_fixed = hv.HoloMap(frames_xdx, kdims=dim_t).opts(xlim=(-.5,1.5), ylim=(-.5, .5)) +hv.HoloMap(frames_tx, kdims=dim_t)\n",
    "r0 = [0.5]\n",
    "r, frames_xdx, frames_tx = sim_animate_1D(dr, r0, par, dt, nT, downsample=10, ref_fig=fig)\n",
    "animation_full = hv.HoloMap(frames_xdx, kdims=dim_t).opts(xlim=(-.5,1.5), ylim=(-.5, .5)) +hv.HoloMap(frames_tx, kdims=dim_t)"
   ]
  },
  {
   "cell_type": "code",
   "execution_count": null,
   "metadata": {
    "slideshow": {
     "slide_type": "-"
    }
   },
   "outputs": [],
   "source": [
    "fig_nonlin\n",
    "# edit slide so figure doesn't fall off"
   ]
  },
  {
   "cell_type": "markdown",
   "metadata": {
    "slideshow": {
     "slide_type": "subslide"
    }
   },
   "source": [
    "### Unstable and stable fixed points in nonlinear systems"
   ]
  },
  {
   "cell_type": "code",
   "execution_count": null,
   "metadata": {
    "slideshow": {
     "slide_type": "-"
    }
   },
   "outputs": [],
   "source": [
    "fig_arrows"
   ]
  },
  {
   "cell_type": "markdown",
   "metadata": {},
   "source": [
    "* Around fixed point can approximate as a linear system!"
   ]
  },
  {
   "cell_type": "code",
   "execution_count": null,
   "metadata": {
    "slideshow": {
     "slide_type": "subslide"
    }
   },
   "outputs": [],
   "source": [
    "animation_full_fixed"
   ]
  },
  {
   "cell_type": "markdown",
   "metadata": {
    "slideshow": {
     "slide_type": "subslide"
    }
   },
   "source": [
    "####  Question: what happens in between two stable fixed points?\n",
    "<center><img src='figs/Izh_fixed-point-stability-question.png' width=800>\n",
    "    \n",
    "    (Izhikevich, 2010)"
   ]
  },
  {
   "cell_type": "markdown",
   "metadata": {
    "slideshow": {
     "slide_type": "subslide"
    }
   },
   "source": [
    "####  Energy landscape view\n",
    "<center><img src='figs/Izh_fixed-point-energy.png' width=600>\n",
    "(Izhikevich, 2010)"
   ]
  },
  {
   "cell_type": "markdown",
   "metadata": {
    "slideshow": {
     "slide_type": "subslide"
    }
   },
   "source": [
    "####  Any function can be quickly *qualitatively* understood\n",
    "<center><img src='figs/Izh_any-function.png' width=600>\n",
    "(Izhikevich, 2010)"
   ]
  },
  {
   "cell_type": "markdown",
   "metadata": {
    "slideshow": {
     "slide_type": "subslide"
    }
   },
   "source": [
    "####  Bifurcation: a qualitative change in behavior\n",
    "<center><img src='figs/Izh_bifurcation.png' width=200>\n",
    "(Izhikevich, 2010)"
   ]
  },
  {
   "cell_type": "markdown",
   "metadata": {
    "slideshow": {
     "slide_type": "slide"
    }
   },
   "source": [
    "<center>  \n",
    "\n",
    "# Two-dimensional systems \n",
    "    \n",
    "<center>\n",
    "\n",
    "    \n",
    "\n"
   ]
  },
  {
   "cell_type": "markdown",
   "metadata": {
    "slideshow": {
     "slide_type": "slide"
    }
   },
   "source": [
    "###  2D systems: coupled neural populations\n",
    "$$ \\frac{dr_E}{dt} = -r_E + f(w_{EE}r_E - w_{EI}r_I+I) $$\n",
    "$$ \\frac{dr_I}{dt} = -r_I + f(w_{IE}r_E - w_{II}r_I+I) $$\n",
    "$$ f(x) = \\frac{1}{1+\\exp(-sx)} $$\n",
    "<center><img src='figs/neural systems - exc-inh pair.svg' width=600>\n",
    "(often referred to as Wilson-Cowan models)"
   ]
  },
  {
   "cell_type": "code",
   "execution_count": null,
   "metadata": {
    "slideshow": {
     "slide_type": "skip"
    }
   },
   "outputs": [],
   "source": [
    "# 1D phaseplane plotter\n",
    "def phaseplane_2D(dx, par, x, add_vectors=True, add_clines=False, clines=None):\n",
    "    '''Plots the phaseplane in 1D.\n",
    "    \n",
    "    Parameters\n",
    "    ----------\n",
    "    dx : function\n",
    "        Derivative function, of form dx(x, par)\n",
    "    par : unknown\n",
    "        Whatever parameters the dx function needs\n",
    "    x : 3D array\n",
    "        Values at which to plot the derivative\n",
    "    n_grid : int\n",
    "        How many arrows to plot\n",
    "    add_vectors : bool, true by default\n",
    "        Whether to plot the vector fields\n",
    "    add_clines : bool\n",
    "        Whether to add the nullclines\n",
    "    nullclines : list of functions, optional\n",
    "        The nullclines functions, of form [f1(r), f2(r)]\n",
    "    \n",
    "        \n",
    "    Output\n",
    "    ------\n",
    "    Holoviews overlay\n",
    "        Plotting object with everything necessary in it\n",
    "    \n",
    "    '''\n",
    "    # get extents\n",
    "    mn = x.min()\n",
    "    mx = x.max()\n",
    "    xlim = (mn, mx)\n",
    "    ylim = (mn, mx)\n",
    "    \n",
    "    # get some data vectors\n",
    "    xs = np.linspace(mn, mx, 500)\n",
    "    xs[xs==0] = 1e-10\n",
    "    x1, x2 = x\n",
    "    n_grid = x.shape[1]\n",
    "    \n",
    "    # predefine output\n",
    "    out = hv.Overlay()\n",
    "    \n",
    "    # get derivative values\n",
    "    dx_vals = np.array([[dx(x[:, i, j], par) for j in range(n_grid)] for i in range(n_grid)])\n",
    "    \n",
    "    # get angles\n",
    "    angles = np.array([[np.arctan2(dx_vals[j, i, 1], dx_vals[j, i, 0]) for i in range(n_grid)] for j in range(n_grid)])\n",
    "\n",
    "    # get lengths\n",
    "    lengths = np.linalg.norm(dx_vals, axis=2)\n",
    "\n",
    "    # plots\n",
    "    fig = hv.Overlay()\n",
    "    if add_vectors:\n",
    "        vector_data = (x1, x2, angles, lengths)\n",
    "        fig *= hv.VectorField(vector_data, kdims=[dim_re, dim_ri])\n",
    "    \n",
    "    if add_clines:\n",
    "        cline1 = clines[0](xs)\n",
    "        cline2 = clines[1](xs)\n",
    "        fig*= hv.Curve(zip(cline2, xs), kdims=dim_re, vdims=dim_ri, label='rI nullcline')\n",
    "        fig*= hv.Curve(zip(xs, cline1), kdims=dim_re, vdims=dim_ri, label='rE nullcline')\n",
    "            \n",
    "    return fig.opts(xlim=xlim, ylim=ylim)\n",
    "\n",
    "\n",
    "def sim_animate_2D(dx, x0, par, dt, nT, downsample=1, ref_fig=None, extents=None):\n",
    "    '''Simlates and animates a model for given starting conditions. \n",
    "    \n",
    "    Parameters\n",
    "    ----------\n",
    "    dx, x0, par, dt, nT\n",
    "        See euler_solve() for paramter descriptions.\n",
    "    downsample : int\n",
    "        How many frames to downsample to\n",
    "    ref_fig : HoloViews Overlay\n",
    "        Reference overlay to put under animation in every frame for the x1-x2 plot\n",
    "    extents : 4D tuple\n",
    "        Left, bottom, right, top, plotting extents\n",
    "        \n",
    "    Output\n",
    "    ------\n",
    "    list of HoloViews objects\n",
    "        List of plots to show system state in x1-x2 plot. Can be animated with hv.HoloMap().\n",
    "    list of HoloViews objects,\n",
    "        Same as previous, but for t-x plot\n",
    "    array\n",
    "        Solved values\n",
    "    '''\n",
    "    xlim = (extents[0], extents[2])\n",
    "    ylim = (extents[1], extents[3])\n",
    "    \n",
    "    # get data\n",
    "    x = euler_solve(dx, x0, par, dt, nT)\n",
    "    times = np.arange(nT)*dt\n",
    "    \n",
    "    # plot frames\n",
    "    if ref_fig is None:\n",
    "        ref_fig = hv.Overlay()\n",
    "    opts = hv.opts.Curve(color='k', xlim=xlim, ylim=ylim)\n",
    "    frames_x1x2 = {f: ref_fig*hv.Curve( \n",
    "                                       zip(x[0, :f], x[1, :f]), kdims=dim_re, vdims=dim_ri\n",
    "                                      ).opts(opts)*hv.Scatter(zip([x[0, f]],[x[1, f]])) \n",
    "                    for f in range(0, nT, downsample)}\n",
    "    \n",
    "    opts1 = hv.opts.Scatter(color=colors[1])\n",
    "    opts2 = hv.opts.Scatter(color=colors[0])\n",
    "    frames_tx = {f: hv.Curve(\n",
    "                             zip(times[:f], x[1, :f]), kdims=dim_t, vdims=dim_r, label='rI'\n",
    "                             )*hv.Curve(\n",
    "                                        zip(times[:f], x[0, :f]), label='rE'\n",
    "                                        )*hv.Scatter(zip([times[f]], [x[0, f]])).opts(opts1)*hv.Scatter(zip([times[f]], [x[1, f]])).opts(opts2) \n",
    "                 for f in range(0, nT, downsample)}\n",
    "    \n",
    "    \n",
    "    return x, frames_x1x2, frames_tx\n"
   ]
  },
  {
   "cell_type": "code",
   "execution_count": null,
   "metadata": {
    "slideshow": {
     "slide_type": "skip"
    }
   },
   "outputs": [],
   "source": [
    "%%opts Curve {+axiswise}\n",
    "\n",
    "## default: single stable state\n",
    "# timescale\n",
    "taus = [1, 1]\n",
    "\n",
    "# f function\n",
    "s = 5\n",
    "f = lambda x, s: 1/(1+np.exp(-s*x))\n",
    "\n",
    "# connectivity\n",
    "wEE = 3\n",
    "wIE = 4.4\n",
    "wEI = -4.4\n",
    "wII = -3\n",
    "W = np.array([[wEE, wEI], [wIE, wII]])\n",
    "\n",
    "# external input\n",
    "Is = [0.3, 0.3]\n",
    "\n",
    "# limit cycle\n",
    "if False:\n",
    "    taus = [0.01, 0.1]\n",
    "    s = 1\n",
    "    wEE = 5\n",
    "    wIE = 30\n",
    "    wEI = -5\n",
    "    wII = -4.4\n",
    "    W = np.array([[wEE, wEI], [wIE, wII]])\n",
    "    Is = [0.3, -10]\n",
    "    \n",
    "# binary state\n",
    "if False: \n",
    "    taus = [1, 1]\n",
    "    s = 1\n",
    "    wEE = 10\n",
    "    wIE = 4.4\n",
    "    wEI = -4.4\n",
    "    wII = -3\n",
    "    W = np.array([[wEE, wEI], [wIE, wII]])\n",
    "    Is = [-1.8, -0.6]\n",
    "    \n",
    "\n",
    "\n",
    "# all inputs\n",
    "par = [s, W, Is]\n",
    "\n",
    "# function\n",
    "dr2d = lambda r, par: -r/taus + f(np.dot(par[1], r) + par[2], par[0])/taus\n",
    "\n",
    "# NULLCLINES\n",
    "def null_re(re):\n",
    "    x = (1-re)/re\n",
    "    x[x<=0]=1e-100\n",
    "    \n",
    "    return -(np.log(x)/s + wEE*re + Is[0])/wEI\n",
    "\n",
    "def null_ri(ri):\n",
    "    x = (1-ri)/ri\n",
    "    x[x<=0]=1e-100\n",
    "    \n",
    "    return -(np.log(x)/s + wII*ri + Is[1])/wIE\n",
    "\n",
    "\n",
    "\n",
    "# setup grid\n",
    "n_grid = 25\n",
    "lim_grid = 1.5\n",
    "r = lim_grid*np.mgrid[0:n_grid,0:n_grid]/float(n_grid) \n",
    "r1, r2 = r\n",
    "\n",
    "# get plots\n",
    "fig = phaseplane_2D(dr2d, par, r, add_vectors=True, add_clines=False, clines=[null_re, null_ri])\n",
    "fig_clines = phaseplane_2D(dr2d, par, r, add_vectors=False, add_clines=True, clines=[null_re, null_ri])\n",
    "fig_both = phaseplane_2D(dr2d, par, r, add_vectors=True, add_clines=True, clines=[null_re, null_ri])\n",
    "\n",
    "# animate\n",
    "dt = 0.01\n",
    "nT = 1000\n",
    "extents=(0, 0, 1.5, 1.5)\n",
    "r0 = [1, 1]\n",
    "\n",
    "r_vals, frames_x1x2, frames_tx = sim_animate_2D(dr2d, r0, par, dt, nT, downsample=10, ref_fig=None, extents=extents)\n",
    "r_vals, frames_x1x2_vectors, frames_tx = sim_animate_2D(dr2d, r0, par, dt, nT, downsample=10, ref_fig=fig, extents=extents)\n",
    "r_vals, frames_x1x2_both, frames_tx = sim_animate_2D(dr2d, r0, par, dt, nT, downsample=10, ref_fig=fig_both, extents=extents)\n",
    "r_vals, frames_x1x2_clines, frames_tx = sim_animate_2D(dr2d, r0, par, dt, nT, downsample=10, ref_fig=fig_clines, extents=extents)\n",
    "\n",
    "animation = hv.HoloMap(frames_x1x2, kdims=dim_t)+hv.HoloMap(frames_tx, kdims=dim_t)\n",
    "animation_vectors = hv.HoloMap(frames_x1x2_vectors, kdims=dim_t)+hv.HoloMap(frames_tx, kdims=dim_t)\n",
    "animation_clines = hv.HoloMap(frames_x1x2_clines, kdims=dim_t)+hv.HoloMap(frames_tx, kdims=dim_t)\n",
    "animation_both = hv.HoloMap(frames_x1x2_both, kdims=dim_t)+hv.HoloMap(frames_tx, kdims=dim_t)"
   ]
  },
  {
   "cell_type": "markdown",
   "metadata": {
    "slideshow": {
     "slide_type": "subslide"
    }
   },
   "source": [
    "###  Simulation\n",
    "$$ \\frac{dr_E}{dt} = -r_E + f(w_{EE}r_E - w_{EI}r_I+I_E) $$\n",
    "$$ \\frac{dr_I}{dt} = -r_I + f(w_{IE}r_E - w_{II}r_I+I_I) $$\n",
    "\n",
    "$$I_E = I_I = 0.3$$\n",
    "$$s = 5$$\n",
    "$$w_{EE} = 3$$\n",
    "$$w_{IE} = 4.4$$\n",
    "$$w_{EI} = -4.4$$\n",
    "$$w_{II} = -3$$"
   ]
  },
  {
   "cell_type": "code",
   "execution_count": null,
   "metadata": {
    "slideshow": {
     "slide_type": "subslide"
    }
   },
   "outputs": [],
   "source": [
    "animation"
   ]
  },
  {
   "cell_type": "markdown",
   "metadata": {
    "slideshow": {
     "slide_type": "subslide"
    }
   },
   "source": [
    "### Phase-plane analysis"
   ]
  },
  {
   "cell_type": "code",
   "execution_count": null,
   "metadata": {
    "slideshow": {
     "slide_type": "-"
    }
   },
   "outputs": [],
   "source": [
    "animation_vectors"
   ]
  },
  {
   "cell_type": "markdown",
   "metadata": {
    "slideshow": {
     "slide_type": "subslide"
    }
   },
   "source": [
    "### Phase-plane analysis and nullclines\n",
    "$$ \\frac{dr_E}{dt} = -r_E + f(w_{EE}r_E - w_EIr_I+I) $$\n",
    "$$ \\frac{dr_I}{dt} = -r_I + f(w_{IE}r_E - w_IIr_I+I) $$\n",
    "\n",
    "* The nullcline for a variable shows where it does not change\n",
    "\n",
    "$$ -r_E + f(w_{EE}r_E - w_EIr_I+I) = 0$$\n",
    "\n",
    "$$ -r_I + f(w_{IE}r_E - w_IIr_I+I) = 0$$\n",
    "\n"
   ]
  },
  {
   "cell_type": "code",
   "execution_count": null,
   "metadata": {
    "slideshow": {
     "slide_type": "subslide"
    }
   },
   "outputs": [],
   "source": [
    "fig_both"
   ]
  },
  {
   "cell_type": "markdown",
   "metadata": {
    "slideshow": {
     "slide_type": "fragment"
    }
   },
   "source": [
    "* Fixed points are at the intersections of nullclines"
   ]
  },
  {
   "cell_type": "markdown",
   "metadata": {
    "slideshow": {
     "slide_type": "subslide"
    }
   },
   "source": [
    "### Single fixed point\n"
   ]
  },
  {
   "cell_type": "code",
   "execution_count": null,
   "metadata": {
    "slideshow": {
     "slide_type": "-"
    }
   },
   "outputs": [],
   "source": [
    "animation_clines"
   ]
  },
  {
   "cell_type": "code",
   "execution_count": null,
   "metadata": {
    "slideshow": {
     "slide_type": "skip"
    }
   },
   "outputs": [],
   "source": [
    "%%opts Curve {+axiswise}\n",
    "\n",
    "## default: single stable state\n",
    "# timescale\n",
    "taus = [1, 1]\n",
    "\n",
    "# f function\n",
    "s = 5\n",
    "f = lambda x, s: 1/(1+np.exp(-s*x))\n",
    "\n",
    "# connectivity\n",
    "wEE = 3\n",
    "wIE = 4.4\n",
    "wEI = -4.4\n",
    "wII = -3\n",
    "W = np.array([[wEE, wEI], [wIE, wII]])\n",
    "\n",
    "# external input\n",
    "Is = [0.3, 0.3]\n",
    "\n",
    "# limit cycle\n",
    "if False:\n",
    "    taus = [0.01, 0.1]\n",
    "    s = 1\n",
    "    wEE = 5\n",
    "    wIE = 30\n",
    "    wEI = -5\n",
    "    wII = -4.4\n",
    "    W = np.array([[wEE, wEI], [wIE, wII]])\n",
    "    Is = [0.3, -10]\n",
    "    \n",
    "# binary state\n",
    "if True: \n",
    "    taus = [1, 1]\n",
    "    s = 1\n",
    "    wEE = 10\n",
    "    wIE = 4.4\n",
    "    wEI = -4.4\n",
    "    wII = -3\n",
    "    W = np.array([[wEE, wEI], [wIE, wII]])\n",
    "    Is = [-1.8, -0.6]\n",
    "    \n",
    "# all inputs\n",
    "par = [s, W, Is]\n",
    "\n",
    "# function\n",
    "dr2d = lambda r, par: -r/taus + f(np.dot(par[1], r) + par[2], par[0])/taus\n",
    "\n",
    "# NULLCLINES\n",
    "def null_re(re):\n",
    "    x = (1-re)/re\n",
    "    x[x<=0]=1e-100\n",
    "    \n",
    "    return -(np.log(x)/s + wEE*re + Is[0])/wEI\n",
    "\n",
    "def null_ri(ri):\n",
    "    x = (1-ri)/ri\n",
    "    x[x<=0]=1e-100\n",
    "    \n",
    "    return -(np.log(x)/s + wII*ri + Is[1])/wIE\n",
    "\n",
    "\n",
    "\n",
    "# setup grid\n",
    "n_grid = 25\n",
    "lim_grid = 1.5\n",
    "r = lim_grid*np.mgrid[0:n_grid,0:n_grid]/float(n_grid) \n",
    "r1, r2 = r\n",
    "\n",
    "# get plots\n",
    "fig = phaseplane_2D(dr2d, par, r, add_vectors=True, add_clines=False, clines=[null_re, null_ri])\n",
    "fig_clines = phaseplane_2D(dr2d, par, r, add_vectors=False, add_clines=True, clines=[null_re, null_ri])\n",
    "fig_both = phaseplane_2D(dr2d, par, r, add_vectors=True, add_clines=True, clines=[null_re, null_ri])\n",
    "\n",
    "# animate\n",
    "dt = 0.01\n",
    "nT = 2000\n",
    "extents=(0, 0, 1.5, 1.5)\n",
    "r0 = [.01, .3]\n",
    "r_vals, frames_x1x2, frames_tx = sim_animate_2D(dr2d, r0, par, dt, nT, downsample=10, ref_fig=None, extents=extents)\n",
    "r_vals, frames_x1x2_vectors, frames_tx = sim_animate_2D(dr2d, r0, par, dt, nT, downsample=10, ref_fig=fig, extents=extents)\n",
    "r_vals, frames_x1x2_both, frames_tx = sim_animate_2D(dr2d, r0, par, dt, nT, downsample=10, ref_fig=fig_both, extents=extents)\n",
    "r_vals, frames_x1x2_clines, frames_tx = sim_animate_2D(dr2d, r0, par, dt, nT, downsample=10, ref_fig=fig_clines, extents=extents)\n",
    "\n",
    "animation = hv.HoloMap(frames_x1x2, kdims=dim_t)+hv.HoloMap(frames_tx, kdims=dim_t)\n",
    "animation_vectors = hv.HoloMap(frames_x1x2_vectors, kdims=dim_t)+hv.HoloMap(frames_tx, kdims=dim_t)\n",
    "animation_clines = hv.HoloMap(frames_x1x2_clines, kdims=dim_t)+hv.HoloMap(frames_tx, kdims=dim_t)\n",
    "animation_both = hv.HoloMap(frames_x1x2_both, kdims=dim_t)+hv.HoloMap(frames_tx, kdims=dim_t)"
   ]
  },
  {
   "cell_type": "markdown",
   "metadata": {
    "slideshow": {
     "slide_type": "subslide"
    }
   },
   "source": [
    "### 'Ghost' or 'Ruin' of an attractor\n",
    "\n"
   ]
  },
  {
   "cell_type": "code",
   "execution_count": null,
   "metadata": {
    "slideshow": {
     "slide_type": "-"
    }
   },
   "outputs": [],
   "source": [
    "animation_both"
   ]
  },
  {
   "cell_type": "code",
   "execution_count": null,
   "metadata": {
    "slideshow": {
     "slide_type": "skip"
    }
   },
   "outputs": [],
   "source": [
    "%%opts Curve {+axiswise}\n",
    "   \n",
    "# binary state\n",
    "if True: \n",
    "    taus = [1, 1]\n",
    "    s = 1\n",
    "    wEE = 10\n",
    "    wIE = 4.4\n",
    "    wEI = -4.4\n",
    "    wII = -3\n",
    "    W = np.array([[wEE, wEI], [wIE, wII]])\n",
    "    Is = [-1.8, 0.6]\n",
    "    \n",
    "\n",
    "\n",
    "# all inputs\n",
    "par = [s, W, Is]\n",
    "\n",
    "# function\n",
    "dr2d = lambda r, par: -r/taus + f(np.dot(par[1], r) + par[2], par[0])/taus\n",
    "\n",
    "# NULLCLINES\n",
    "def null_re(re):\n",
    "    x = (1-re)/re\n",
    "    x[x<=0]=1e-100\n",
    "    \n",
    "    return -(np.log(x)/s + wEE*re + Is[0])/wEI\n",
    "\n",
    "def null_ri(ri):\n",
    "    x = (1-ri)/ri\n",
    "    x[x<=0]=1e-100\n",
    "    \n",
    "    return -(np.log(x)/s + wII*ri + Is[1])/wIE\n",
    "\n",
    "\n",
    "\n",
    "# setup grid\n",
    "n_grid = 25\n",
    "lim_grid = 1.5\n",
    "r = lim_grid*np.mgrid[0:n_grid,0:n_grid]/float(n_grid) \n",
    "r1, r2 = r\n",
    "\n",
    "# get plots\n",
    "fig = phaseplane_2D(dr2d, par, r, add_vectors=True, add_clines=False, clines=[null_re, null_ri])\n",
    "fig_clines = phaseplane_2D(dr2d, par, r, add_vectors=False, add_clines=True, clines=[null_re, null_ri])\n",
    "fig_both = phaseplane_2D(dr2d, par, r, add_vectors=True, add_clines=True, clines=[null_re, null_ri])\n",
    "\n",
    "# animate\n",
    "dt = 0.01\n",
    "nT = 1000\n",
    "extents=(0, 0, 1.5, 1.5)\n",
    "r0 = [.4, .3]\n",
    "r_vals, frames_x1x2, frames_tx = sim_animate_2D(dr2d, r0, par, dt, nT, downsample=10, ref_fig=None, extents=extents)\n",
    "r_vals, frames_x1x2_vectors, frames_tx = sim_animate_2D(dr2d, r0, par, dt, nT, downsample=10, ref_fig=fig, extents=extents)\n",
    "r_vals, frames_x1x2_both, frames_tx = sim_animate_2D(dr2d, r0, par, dt, nT, downsample=10, ref_fig=fig_both, extents=extents)\n",
    "r_vals, frames_x1x2_clines, frames_tx = sim_animate_2D(dr2d, r0, par, dt, nT, downsample=10, ref_fig=fig_clines, extents=extents)\n",
    "\n",
    "\n",
    "animation = hv.HoloMap(frames_x1x2, kdims=dim_t)+hv.HoloMap(frames_tx, kdims=dim_t)\n",
    "animation_vectors = hv.HoloMap(frames_x1x2_vectors, kdims=dim_t)+hv.HoloMap(frames_tx, kdims=dim_t)\n",
    "animation_clines = hv.HoloMap(frames_x1x2_clines, kdims=dim_t)+hv.HoloMap(frames_tx, kdims=dim_t)\n",
    "animation_both = hv.HoloMap(frames_x1x2_both, kdims=dim_t)+hv.HoloMap(frames_tx, kdims=dim_t)"
   ]
  },
  {
   "cell_type": "markdown",
   "metadata": {
    "slideshow": {
     "slide_type": "subslide"
    }
   },
   "source": [
    "### Several fixed points\n"
   ]
  },
  {
   "cell_type": "code",
   "execution_count": null,
   "metadata": {
    "slideshow": {
     "slide_type": "-"
    }
   },
   "outputs": [],
   "source": [
    "animation_both"
   ]
  },
  {
   "cell_type": "markdown",
   "metadata": {
    "slideshow": {
     "slide_type": "slide"
    }
   },
   "source": [
    "### Limit cycles"
   ]
  },
  {
   "cell_type": "code",
   "execution_count": null,
   "metadata": {
    "slideshow": {
     "slide_type": "skip"
    }
   },
   "outputs": [],
   "source": [
    "%%opts Curve {+axiswise}\n",
    "\n",
    "## default: single stable state\n",
    "# timescale\n",
    "taus = [0.01, 0.01]\n",
    "\n",
    "# f function\n",
    "s = 5\n",
    "f = lambda x, s: 1/(1+np.exp(-s*x))\n",
    "\n",
    "# connectivity\n",
    "wEE = 3\n",
    "wIE = 4.4\n",
    "wEI = -4.4\n",
    "wII = -3\n",
    "W = np.array([[wEE, wEI], [wIE, wII]])\n",
    "\n",
    "# external input\n",
    "Is = [0.3, 0.3]\n",
    "\n",
    "# limit cycle\n",
    "if True:\n",
    "    taus = [0.01, 0.1]\n",
    "    s = 1\n",
    "    wEE = 5\n",
    "    wIE = 30\n",
    "    wEI = -5\n",
    "    wII = -4.4\n",
    "    W = np.array([[wEE, wEI], [wIE, wII]])\n",
    "    Is = [0.3, -10]\n",
    "    \n",
    "# binary state\n",
    "if False: \n",
    "    taus = [0.01, 0.01]\n",
    "    s = 1\n",
    "    wEE = 10\n",
    "    wIE = 4.4\n",
    "    wEI = -4.4\n",
    "    wII = -3\n",
    "    W = np.array([[wEE, wEI], [wIE, wII]])\n",
    "    Is = [-1.8, -0.6]\n",
    "    \n",
    "\n",
    "\n",
    "# all inputs\n",
    "par = [s, W, Is]\n",
    "\n",
    "# function\n",
    "dr2d = lambda r, par: -r/taus + f(np.dot(par[1], r) + par[2], par[0])/taus\n",
    "\n",
    "# NULLCLINES\n",
    "def null_re(re):\n",
    "    x = (1-re)/re\n",
    "    x[x<=0]=1e-100\n",
    "    \n",
    "    return -(np.log(x)/s + wEE*re + Is[0])/wEI\n",
    "\n",
    "def null_ri(ri):\n",
    "    x = (1-ri)/ri\n",
    "    x[x<=0]=1e-100\n",
    "    \n",
    "    return -(np.log(x)/s + wII*ri + Is[1])/wIE\n",
    "\n",
    "\n",
    "\n",
    "# setup grid\n",
    "n_grid = 25\n",
    "lim_grid = 1.5\n",
    "r = lim_grid*np.mgrid[0:n_grid,0:n_grid]/float(n_grid) \n",
    "r1, r2 = r\n",
    "\n",
    "# get plots\n",
    "fig = phaseplane_2D(dr2d, par, r, add_vectors=True, add_clines=False, clines=[null_re, null_ri])\n",
    "fig_clines = phaseplane_2D(dr2d, par, r, add_vectors=False, add_clines=True, clines=[null_re, null_ri])\n",
    "fig_both = phaseplane_2D(dr2d, par, r, add_vectors=True, add_clines=True, clines=[null_re, null_ri])\n",
    "\n",
    "# animate\n",
    "dt = 0.001\n",
    "nT = 1000\n",
    "extents=(0, 0, 1.5, 1.5)\n",
    "r0 = [1, 1]\n",
    "r_vals, frames_x1x2, frames_tx = sim_animate_2D(dr2d, r0, par, dt, nT, downsample=10, ref_fig=None, extents=extents)\n",
    "r_vals, frames_x1x2_vectors, frames_tx = sim_animate_2D(dr2d, r0, par, dt, nT, downsample=10, ref_fig=fig, extents=extents)\n",
    "r_vals, frames_x1x2_both, frames_tx = sim_animate_2D(dr2d, r0, par, dt, nT, downsample=10, ref_fig=fig_both, extents=extents)\n",
    "r_vals, frames_x1x2_clines, frames_tx = sim_animate_2D(dr2d, r0, par, dt, nT, downsample=10, ref_fig=fig_clines, extents=extents)\n",
    "\n",
    "\n",
    "animation = hv.HoloMap(frames_x1x2, kdims=dim_t)+hv.HoloMap(frames_tx, kdims=dim_t)\n",
    "animation_vectors = hv.HoloMap(frames_x1x2_vectors, kdims=dim_t)+hv.HoloMap(frames_tx, kdims=dim_t)\n",
    "animation_clines = hv.HoloMap(frames_x1x2_clines, kdims=dim_t)+hv.HoloMap(frames_tx, kdims=dim_t)\n",
    "animation_both = hv.HoloMap(frames_x1x2_both, kdims=dim_t)+hv.HoloMap(frames_tx, kdims=dim_t)"
   ]
  },
  {
   "cell_type": "code",
   "execution_count": null,
   "metadata": {
    "slideshow": {
     "slide_type": "-"
    }
   },
   "outputs": [],
   "source": [
    "animation_both"
   ]
  },
  {
   "cell_type": "markdown",
   "metadata": {
    "slideshow": {
     "slide_type": "subslide"
    }
   },
   "source": [
    "### Analyzing fixed points analytically"
   ]
  },
  {
   "cell_type": "markdown",
   "metadata": {
    "slideshow": {
     "slide_type": "-"
    }
   },
   "source": [
    "<center><img src='figs/Izh_fixed-point-linearized.png' width=800>\n",
    "    \n"
   ]
  },
  {
   "cell_type": "markdown",
   "metadata": {
    "slideshow": {
     "slide_type": "subslide"
    }
   },
   "source": [
    "<center><img src='figs/Izh_fixed-point-eigenvectors.png' width=800>\n",
    "    \n"
   ]
  },
  {
   "cell_type": "markdown",
   "metadata": {
    "slideshow": {
     "slide_type": "subslide"
    }
   },
   "source": [
    "### Real eigenvalues, negative or positive"
   ]
  },
  {
   "cell_type": "markdown",
   "metadata": {
    "slideshow": {
     "slide_type": "-"
    }
   },
   "source": [
    "<center><img src='figs/Izh_fixed_point_unstable_stable.png' width=600>\n",
    "    (Izhikevich, 2010)"
   ]
  },
  {
   "cell_type": "markdown",
   "metadata": {
    "slideshow": {
     "slide_type": "subslide"
    }
   },
   "source": [
    "### Real eigenvalues, mix of positive and negative"
   ]
  },
  {
   "cell_type": "markdown",
   "metadata": {
    "slideshow": {
     "slide_type": "-"
    }
   },
   "source": [
    "<center><img src='figs/Izh_saddle.png' width=600>\n",
    "    (Izhikevich, 2010)"
   ]
  },
  {
   "cell_type": "markdown",
   "metadata": {
    "slideshow": {
     "slide_type": "subslide"
    }
   },
   "source": [
    "### Complex eigenvalues"
   ]
  },
  {
   "cell_type": "markdown",
   "metadata": {
    "slideshow": {
     "slide_type": "-"
    }
   },
   "source": [
    "<center><img src='figs/Izh_focus.png' width=600>\n",
    "    (Izhikevich, 2010)"
   ]
  },
  {
   "cell_type": "markdown",
   "metadata": {
    "slideshow": {
     "slide_type": "subslide"
    }
   },
   "source": [
    "### Relationship between eigenvalues and fixed point types"
   ]
  },
  {
   "cell_type": "markdown",
   "metadata": {
    "slideshow": {
     "slide_type": "-"
    }
   },
   "source": [
    "<center><img src='figs/Izh_fixed-points-types.png' width=600>\n",
    "    \n"
   ]
  },
  {
   "cell_type": "markdown",
   "metadata": {
    "slideshow": {
     "slide_type": "subslide"
    }
   },
   "source": [
    "### Saddle-node bifurcation"
   ]
  },
  {
   "cell_type": "markdown",
   "metadata": {
    "slideshow": {
     "slide_type": "-"
    }
   },
   "source": [
    "<center><img src='figs/Izh_saddle-node.png' width=600>\n",
    "    (Izhikevich, 2010)"
   ]
  },
  {
   "cell_type": "markdown",
   "metadata": {},
   "source": [
    "*And many others, see further reading!"
   ]
  },
  {
   "cell_type": "markdown",
   "metadata": {
    "slideshow": {
     "slide_type": "slide"
    }
   },
   "source": [
    "### Example applications"
   ]
  },
  {
   "cell_type": "markdown",
   "metadata": {
    "slideshow": {
     "slide_type": "subslide"
    }
   },
   "source": [
    "### Understanding microcircuits\n",
    "<center><img src='figs/V1MicroCircuitModel.png' width=1200>\n",
    "    \n",
    "(Garcia del Molino et al., 2017)"
   ]
  },
  {
   "cell_type": "markdown",
   "metadata": {
    "slideshow": {
     "slide_type": "subslide"
    }
   },
   "source": [
    "### Understanding large neural networks\n",
    "<center><img src='figs/NetworkReduction.png' width=300>\n",
    "    \n",
    "(Wong & Wang, 2006)"
   ]
  },
  {
   "cell_type": "markdown",
   "metadata": {
    "slideshow": {
     "slide_type": "subslide"
    }
   },
   "source": [
    "<center><img src='figs/NetworkReductionPhasePlane.png', width=900>\n",
    "    \n",
    "(Wong & Wang, 2006)"
   ]
  },
  {
   "cell_type": "markdown",
   "metadata": {
    "slideshow": {
     "slide_type": "subslide"
    }
   },
   "source": [
    "### Dynamical systems as an energy landscape\n",
    "<center><img src='figs/EnergyLandscapes.png' width=900>\n",
    "    \n",
    "( https://commons.wikimedia.org/wiki/File:Energy_landscape.png,\n",
    "https://en.wikipedia.org/wiki/Folding_funnel,\n",
    "https://www.pathwayz.org/Tree/Plain/ACTIVATION+ENERGY+%5BENZYMES%5D)"
   ]
  },
  {
   "cell_type": "markdown",
   "metadata": {
    "slideshow": {
     "slide_type": "slide"
    }
   },
   "source": [
    "### Summary\n",
    "* Even simple neural interactions can be complicated and hard to solve\n",
    "* Phase-plane analysis gives powerful intuitions\n",
    "* Important to at least intuitively understand dynamics for all of biology"
   ]
  },
  {
   "cell_type": "markdown",
   "metadata": {
    "slideshow": {
     "slide_type": "subslide"
    }
   },
   "source": [
    "### Further info\n",
    "Online pages (scholarpedia, wikipedia)\n",
    "* https://en.wikipedia.org/wiki/Phase_plane\n",
    "* http://www.scholarpedia.org/article/State_space\n",
    "* https://en.wikipedia.org/wiki/Attractor\n",
    "\n",
    "Online courses\n",
    "* Coursera - Computational Neuroscience, two lectures in week 5\n",
    "\n",
    "Books\n",
    "* Dynamical systems in neuroscience by Izhikevich\n",
    "* Nonlinear Dynamics and Chaos by Strogatz\n"
   ]
  },
  {
   "cell_type": "markdown",
   "metadata": {
    "slideshow": {
     "slide_type": "subslide"
    }
   },
   "source": [
    "<center>\n",
    "\n",
    "# Questions?\n",
    "\n",
    "swkeemink@scimail.eu\n"
   ]
  }
 ],
 "metadata": {
  "celltoolbar": "Slideshow",
  "kernelspec": {
   "display_name": "Python 3",
   "language": "python",
   "name": "python3"
  },
  "language_info": {
   "codemirror_mode": {
    "name": "ipython",
    "version": 3
   },
   "file_extension": ".py",
   "mimetype": "text/x-python",
   "name": "python",
   "nbconvert_exporter": "python",
   "pygments_lexer": "ipython3",
   "version": "3.8.8"
  },
  "rise": {
   "enable_chalkboard": false,
   "start_slideshow_at": "beginning",
   "theme": "white",
   "transition": "none"
  }
 },
 "nbformat": 4,
 "nbformat_minor": 2
}
